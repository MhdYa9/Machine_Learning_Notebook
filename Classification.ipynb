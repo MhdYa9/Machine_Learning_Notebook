{
 "cells": [
  {
   "metadata": {},
   "cell_type": "markdown",
   "source": "# classification",
   "id": "8f9e4f105396529b"
  },
  {
   "metadata": {
    "ExecuteTime": {
     "end_time": "2024-12-22T22:27:05.787636Z",
     "start_time": "2024-12-22T22:27:05.188050Z"
    }
   },
   "cell_type": "code",
   "source": [
    "import numpy as np\n",
    "import matplotlib.pyplot as plt"
   ],
   "id": "e8753ad02011e3b5",
   "outputs": [],
   "execution_count": 1
  },
  {
   "metadata": {},
   "cell_type": "markdown",
   "source": "### sigmoid",
   "id": "e1328297ace1466b"
  },
  {
   "cell_type": "code",
   "id": "initial_id",
   "metadata": {
    "collapsed": true,
    "ExecuteTime": {
     "end_time": "2024-12-22T22:27:05.801649Z",
     "start_time": "2024-12-22T22:27:05.797676Z"
    }
   },
   "source": [
    "def sigmoid(z):\n",
    "    return 1/(1+np.exp(-z))"
   ],
   "outputs": [],
   "execution_count": 2
  },
  {
   "metadata": {},
   "cell_type": "markdown",
   "source": "### experiment",
   "id": "a8c9b1ed97f63bbe"
  },
  {
   "metadata": {
    "ExecuteTime": {
     "end_time": "2024-12-22T22:27:05.827748Z",
     "start_time": "2024-12-22T22:27:05.820718Z"
    }
   },
   "cell_type": "code",
   "source": [
    "z = np.arange(-20,20)\n",
    "y = sigmoid(z)\n",
    "np.set_printoptions(precision=3) \n",
    "print(\"Input (z), Output (sigmoid(z))\")\n",
    "print(np.c_[z, y])"
   ],
   "id": "73e0769fd535db1c",
   "outputs": [
    {
     "name": "stdout",
     "output_type": "stream",
     "text": [
      "Input (z), Output (sigmoid(z))\n",
      "[[-2.000e+01  2.061e-09]\n",
      " [-1.900e+01  5.603e-09]\n",
      " [-1.800e+01  1.523e-08]\n",
      " [-1.700e+01  4.140e-08]\n",
      " [-1.600e+01  1.125e-07]\n",
      " [-1.500e+01  3.059e-07]\n",
      " [-1.400e+01  8.315e-07]\n",
      " [-1.300e+01  2.260e-06]\n",
      " [-1.200e+01  6.144e-06]\n",
      " [-1.100e+01  1.670e-05]\n",
      " [-1.000e+01  4.540e-05]\n",
      " [-9.000e+00  1.234e-04]\n",
      " [-8.000e+00  3.354e-04]\n",
      " [-7.000e+00  9.111e-04]\n",
      " [-6.000e+00  2.473e-03]\n",
      " [-5.000e+00  6.693e-03]\n",
      " [-4.000e+00  1.799e-02]\n",
      " [-3.000e+00  4.743e-02]\n",
      " [-2.000e+00  1.192e-01]\n",
      " [-1.000e+00  2.689e-01]\n",
      " [ 0.000e+00  5.000e-01]\n",
      " [ 1.000e+00  7.311e-01]\n",
      " [ 2.000e+00  8.808e-01]\n",
      " [ 3.000e+00  9.526e-01]\n",
      " [ 4.000e+00  9.820e-01]\n",
      " [ 5.000e+00  9.933e-01]\n",
      " [ 6.000e+00  9.975e-01]\n",
      " [ 7.000e+00  9.991e-01]\n",
      " [ 8.000e+00  9.997e-01]\n",
      " [ 9.000e+00  9.999e-01]\n",
      " [ 1.000e+01  1.000e+00]\n",
      " [ 1.100e+01  1.000e+00]\n",
      " [ 1.200e+01  1.000e+00]\n",
      " [ 1.300e+01  1.000e+00]\n",
      " [ 1.400e+01  1.000e+00]\n",
      " [ 1.500e+01  1.000e+00]\n",
      " [ 1.600e+01  1.000e+00]\n",
      " [ 1.700e+01  1.000e+00]\n",
      " [ 1.800e+01  1.000e+00]\n",
      " [ 1.900e+01  1.000e+00]]\n"
     ]
    }
   ],
   "execution_count": 3
  },
  {
   "metadata": {
    "ExecuteTime": {
     "end_time": "2024-12-22T22:27:06.239218Z",
     "start_time": "2024-12-22T22:27:06.072699Z"
    }
   },
   "cell_type": "code",
   "source": [
    "ax = plt.plot(z, y, c=\"b\")\n",
    "\n",
    "plt.title(\"Sigmoid function\")\n",
    "plt.ylabel('sigmoid(z)')\n",
    "plt.xlabel('z')"
   ],
   "id": "9bbcd67b121b0bb6",
   "outputs": [
    {
     "data": {
      "text/plain": [
       "Text(0.5, 0, 'z')"
      ]
     },
     "execution_count": 4,
     "metadata": {},
     "output_type": "execute_result"
    },
    {
     "data": {
      "text/plain": [
       "<Figure size 640x480 with 1 Axes>"
      ],
      "image/png": "[encoded data removed]"
     },
     "metadata": {},
     "output_type": "display_data"
    }
   ],
   "execution_count": 4
  },
  {
   "metadata": {},
   "cell_type": "markdown",
   "source": [
    "### cost function for logistic regression\n",
    "$$\n",
    "J(\\vec{w},b)= -\\frac{1}{m} \\sum_{i=1}^{m} \\left[ y^{(i)} \\log \\left( f_{\\mathbf{w},b} \\left( \\mathbf{x}^{(i)} \\right) \\right) + (1 - y^{(i)}) \\log \\left( 1 - f_{\\mathbf{w},b} \\left( \\mathbf{x}^{(i)} \\right) \\right) \\right]\n",
    "$$\n"
   ],
   "id": "37172cc071430b42"
  },
  {
   "metadata": {
    "ExecuteTime": {
     "end_time": "2024-12-22T22:27:06.261693Z",
     "start_time": "2024-12-22T22:27:06.256751Z"
    }
   },
   "cell_type": "code",
   "source": [
    "def J_function(W,b,X,y):\n",
    "    f_wb = 1 / (1+np.exp(-(np.dot(X,W) + b)))\n",
    "    sum = np.dot(y,np.log(f_wb)) + np.dot((1-y),np.log(1-f_wb))\n",
    "    return -1/X.shape[0] * sum\n",
    "    "
   ],
   "id": "a5d6acd7ffc44f17",
   "outputs": [],
   "execution_count": 5
  },
  {
   "metadata": {},
   "cell_type": "markdown",
   "source": [
    "### gradient descent\n",
    "\n",
    "Recall the gradient descent algorithm utilizes the gradient calculation:\n",
    "$$\\begin{align*}\n",
    "&\\text{repeat until convergence:} \\; \\lbrace \\\\\n",
    "&  \\; \\; \\;w_j = w_j -  \\alpha \\frac{\\partial J(\\mathbf{w},b)}{\\partial w_j} \\tag{1}  \\; & \\text{for j := 0..n-1} \\\\ \n",
    "&  \\; \\; \\;  \\; \\;b = b -  \\alpha \\frac{\\partial J(\\mathbf{w},b)}{\\partial b} \\\\\n",
    "&\\rbrace\n",
    "\\end{align*}$$\n",
    "\n",
    "Where each iteration performs simultaneous updates on $w_j$ for all $j$, where\n",
    "$$\\begin{align*}\n",
    "\\frac{\\partial J(\\mathbf{w},b)}{\\partial w_j}  &= \\frac{1}{m} \\sum\\limits_{i = 0}^{m-1} (f_{\\mathbf{w},b}(\\mathbf{x}^{(i)}) - y^{(i)})x_{j}^{(i)} \\tag{2} \\\\\n",
    "\\frac{\\partial J(\\mathbf{w},b)}{\\partial b}  &= \\frac{1}{m} \\sum\\limits_{i = 0}^{m-1} (f_{\\mathbf{w},b}(\\mathbf{x}^{(i)}) - y^{(i)}) \\tag{3} \n",
    "\\end{align*}$$\n",
    "\n",
    "* m is the number of training examples in the data set      \n",
    "* $f_{\\mathbf{w},b}(x^{(i)})$ is the model's prediction, while $y^{(i)}$ is the target\n",
    "* For a logistic regression model  \n",
    "    $z = \\mathbf{w} \\cdot \\mathbf{x} + b$  \n",
    "    $f_{\\mathbf{w},b}(x) = g(z)$  \n",
    "    where $g(z)$ is the sigmoid function:  \n",
    "    $g(z) = \\frac{1}{1+e^{-z}}$   "
   ],
   "id": "9f3fd996c08ee3f0"
  },
  {
   "metadata": {
    "ExecuteTime": {
     "end_time": "2024-12-22T22:27:06.285211Z",
     "start_time": "2024-12-22T22:27:06.279911Z"
    }
   },
   "cell_type": "code",
   "outputs": [],
   "execution_count": 6,
   "source": [
    "def partial_derivative(W,b,X,y):\n",
    "    \"\"\"\n",
    "    Compute the partial derivatives of the cost function with respect to W and b.\n",
    "\n",
    "    Args:\n",
    "      W (ndarray (n,)): Model parameters (weights)\n",
    "      b (scalar): Model parameter (bias)\n",
    "      X (ndarray (m, n)): Input data (m records, n features)\n",
    "      y (ndarray (m,)): Target values\n",
    "\n",
    "    Returns:\n",
    "      DJ_DW (ndarray (n,)): Partial derivatives with respect to W\n",
    "      dj_db (scalar): Partial derivative with respect to b\n",
    "    \"\"\"\n",
    "    number_of_features = n = X.shape[1]\n",
    "    number_of_records = m = X.shape[0]\n",
    "    DJ_DW = np.zeros(number_of_features)\n",
    "    dj_db = 0.0\n",
    "    errors = 1 /(1 + np.exp(-np.dot(X,W) - b)) - y   \n",
    "    dj_db = np.sum(errors)/m  \n",
    "    for j in range(number_of_features):\n",
    "        DJ_DW[j] = (np.sum(errors * X[:,j]))/m\n",
    "    return DJ_DW, dj_db\n"
   ],
   "id": "58087da2107a4396"
  },
  {
   "metadata": {
    "ExecuteTime": {
     "end_time": "2024-12-22T22:36:37.916734Z",
     "start_time": "2024-12-22T22:36:37.897745Z"
    }
   },
   "cell_type": "code",
   "outputs": [],
   "execution_count": 19,
   "source": [
    "def gradient_descent(Init_W,init_b,alpha,times,X_Training,y_training):  \n",
    "    \"\"\"\n",
    "    Perform gradient descent optimization to find optimal model parameters.\n",
    "    \n",
    "    This function iteratively updates weights (W) and bias (b) to minimize \n",
    "    the cost function using gradient descent algorithm.\n",
    "    \n",
    "    Args:\n",
    "        Init_W (numpy.ndarray): Initial weights vector \n",
    "            Shape: (number_of_features,)\n",
    "        init_b (float): Initial bias value\n",
    "        alpha (float): Learning rate controlling step size of parameter updates\n",
    "        times (int): Maximum number of iterations to perform\n",
    "        X_Training (numpy.ndarray): Training feature matrix \n",
    "            Shape: (number_of_samples, number_of_features)\n",
    "        y_training (numpy.ndarray): Training target values \n",
    "            Shape: (number_of_samples,)\n",
    "    \n",
    "    Returns:\n",
    "        tuple: \n",
    "            - W (numpy.ndarray): Optimized weights vector\n",
    "            - b (float): Optimized bias value\n",
    "    \"\"\"\n",
    "    \n",
    "    x_axis = []\n",
    "    y_axis = []\n",
    "    W = Init_W\n",
    "    number_of_features = n = W.shape[0]\n",
    "    b = init_b\n",
    "    for i in range(times):\n",
    "        DJ_DW,dj_db = partial_derivative(W,b,X_Training,y_training)\n",
    "        b = b - alpha*dj_db        \n",
    "        W = W - DJ_DW * alpha\n",
    "        x_axis.append(i)\n",
    "        cost = J_function(W,b,X_Training,y_training)\n",
    "        y_axis.append(cost)\n",
    "        if(cost < 1e-10):\n",
    "            print(i)\n",
    "            break\n",
    "    #plt.plot(x_axis,y_axis)\n",
    "    return W,b\n",
    "\n",
    "def gradient_descent_algorithm(X_Training,y_training):\n",
    "    \"\"\"\n",
    "    Prepare and execute gradient descent optimization.\n",
    "    \n",
    "    Sets up initial parameters and calls gradient descent function.\n",
    "    \n",
    "    Args:\n",
    "        X_Training (numpy.ndarray): Training feature matrix \n",
    "            Shape: (number_of_samples, number_of_features)\n",
    "        y_training (numpy.ndarray): Training target values \n",
    "            Shape: (number_of_samples,)\n",
    "    \n",
    "    Returns:\n",
    "        tuple: \n",
    "            - W (numpy.ndarray): Optimized weights vector\n",
    "            - b (float): Optimized bias value\n",
    "    \n",
    "    Configuration:\n",
    "        - Initial weights set to zero\n",
    "        - Initial bias set to 0.0\n",
    "        - Learning rate (alpha) set to 5.0e-8\n",
    "        - Maximum iterations set to 10,000\n",
    "    \"\"\"\n",
    "    number_of_features = X_Training.shape[1]\n",
    "    Init_W = np.full(number_of_features,0)\n",
    "    init_b = 0.\n",
    "    alpha = 0.1 #if you normalize data you must choose smaller learning rate\n",
    "    times = 100000\n",
    "    return gradient_descent(Init_W,init_b,alpha,times,X_Training,y_training)\n",
    "        \n"
   ],
   "id": "23f60b47ddcab7ab"
  },
  {
   "metadata": {},
   "cell_type": "markdown",
   "source": "### some tests",
   "id": "b581bf6b24c6f56e"
  },
  {
   "metadata": {
    "ExecuteTime": {
     "end_time": "2024-12-22T22:38:50.570978Z",
     "start_time": "2024-12-22T22:38:47.532417Z"
    }
   },
   "cell_type": "code",
   "source": [
    "x_train = np.array([[0.], [1], [2], [3], [4], [5]])\n",
    "y_train = np.array([0,  0, 0, 1, 1, 1])\n",
    "\n",
    "W,b = gradient_descent_algorithm(x_train,y_train)\n",
    "plt.plot(sigmoid(np.dot(x_train,W) + b))\n",
    "print(f\"w:{W}\\nb: {b}\\nloss: {J_function(W,b,x_train,y_train)}\")\n",
    "# Separate the data into two groups based on y_train\n",
    "x_zeros = x_train[y_train == 0]\n",
    "x_ones = x_train[y_train == 1]\n",
    "\n",
    "# Plot 0s as blue circles\n",
    "plt.scatter(x_zeros, np.zeros_like(x_zeros), color='blue', marker='o', label='0s (o)')\n",
    "\n",
    "# Plot 1s as red crosses\n",
    "plt.scatter(x_ones, np.ones_like(x_ones), color='red', marker='x', label='1s (x)')\n",
    "\n",
    "# Add labels, legend, and title\n",
    "plt.xlabel(\"x_train\")\n",
    "plt.ylabel(\"y_train\")\n",
    "plt.title(\"Cancer\")\n",
    "plt.legend()\n",
    "plt.show()\n",
    "\n"
   ],
   "id": "992428281e0d3a53",
   "outputs": [
    {
     "name": "stdout",
     "output_type": "stream",
     "text": [
      "w:[9.505]\n",
      "b: -23.587112280916873\n",
      "loss: 0.002908144991240873\n"
     ]
    },
    {
     "data": {
      "text/plain": [
       "<Figure size 640x480 with 1 Axes>"
      ],
      "image/png": "[encoded data removed]"
     },
     "metadata": {},
     "output_type": "display_data"
    }
   ],
   "execution_count": 22
  }
 ],
 "metadata": {
  "kernelspec": {
   "display_name": "Python 3",
   "language": "python",
   "name": "python3"
  },
  "language_info": {
   "codemirror_mode": {
    "name": "ipython",
    "version": 2
   },
   "file_extension": ".py",
   "mimetype": "text/x-python",
   "name": "python",
   "nbconvert_exporter": "python",
   "pygments_lexer": "ipython2",
   "version": "2.7.6"
  }
 },
 "nbformat": 4,
 "nbformat_minor": 5
}
