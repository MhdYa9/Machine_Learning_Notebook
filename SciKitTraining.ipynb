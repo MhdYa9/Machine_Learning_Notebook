{
 "cells": [
  {
   "cell_type": "code",
   "id": "initial_id",
   "metadata": {
    "collapsed": true,
    "ExecuteTime": {
     "end_time": "2024-12-22T23:01:04.681742Z",
     "start_time": "2024-12-22T23:01:00.023561Z"
    }
   },
   "source": [
    "import numpy as np\n",
    "from sklearn.linear_model import LogisticRegression"
   ],
   "outputs": [],
   "execution_count": 2
  },
  {
   "metadata": {},
   "cell_type": "markdown",
   "source": "### classification",
   "id": "db6c0a85a059d618"
  },
  {
   "metadata": {
    "ExecuteTime": {
     "end_time": "2024-12-22T23:05:47.138078Z",
     "start_time": "2024-12-22T23:05:47.111753Z"
    }
   },
   "cell_type": "code",
   "source": [
    "X = np.array([[0.5, 1.5], [1,1], [1.5, 0.5], [3, 0.5], [2, 2], [1, 2.5]])\n",
    "y = np.array([0, 0, 0, 1, 1, 1])\n",
    "\n",
    "lr_model = LogisticRegression()\n",
    "lr_model.fit(X, y)\n",
    "print(lr_model)\n",
    "print(f\"accuracy of the model is: {lr_model.score(X, y)}\")"
   ],
   "id": "a3b6f4c81fe35927",
   "outputs": [
    {
     "name": "stdout",
     "output_type": "stream",
     "text": [
      "LogisticRegression()\n",
      "accuracy of the model is: 1.0\n"
     ]
    }
   ],
   "execution_count": 8
  }
 ],
 "metadata": {
  "kernelspec": {
   "display_name": "Python 3",
   "language": "python",
   "name": "python3"
  },
  "language_info": {
   "codemirror_mode": {
    "name": "ipython",
    "version": 2
   },
   "file_extension": ".py",
   "mimetype": "text/x-python",
   "name": "python",
   "nbconvert_exporter": "python",
   "pygments_lexer": "ipython2",
   "version": "2.7.6"
  }
 },
 "nbformat": 4,
 "nbformat_minor": 5
}
