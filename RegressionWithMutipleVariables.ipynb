{
 "cells": [
  {
   "cell_type": "code",
   "id": "initial_id",
   "metadata": {
    "collapsed": true,
    "ExecuteTime": {
     "end_time": "2024-12-16T11:39:34.303084Z",
     "start_time": "2024-12-16T11:39:24.765602Z"
    }
   },
   "source": [
    "import numpy as np\n",
    "from tensorflow.python.ops.numpy_ops.np_dtypes import int64\n",
    "import matplotlib.pyplot as plt\n",
    "import time\n",
    "from tensorflow.python.types.doc_typealias import document\n",
    "np.set_printoptions(precision=2)  # reduced display precision on numpy arrays\n"
   ],
   "outputs": [],
   "execution_count": 2
  },
  {
   "metadata": {},
   "cell_type": "markdown",
   "source": [
    "## generating data sets\n",
    "this code will take 2 params, the number of samples and the number of features and the code will generate the data sets randomly"
   ],
   "id": "972fe9b2626a2c5d"
  },
  {
   "metadata": {
    "ExecuteTime": {
     "end_time": "2024-12-16T12:10:43.812854Z",
     "start_time": "2024-12-16T12:10:43.791567Z"
    }
   },
   "cell_type": "code",
   "source": [
    "def generate_realistic_dataset(num_samples=100, n_features=10):\n",
    "    \"\"\"\n",
    "    Generates a synthetic dataset with realistic relationships between features and target.\n",
    "\n",
    "    Args:\n",
    "        num_samples (int): Number of data points to generate.\n",
    "        n_features (int): Number of features in the dataset.\n",
    "\n",
    "    Returns:\n",
    "        X_train (ndarray): Feature matrix of shape (num_samples, n_features).\n",
    "        y_train (ndarray): Target array of shape (num_samples,).\n",
    "    \"\"\"\n",
    "    # Initialize the feature matrix\n",
    "    X_train = np.zeros((num_samples, n_features), dtype=int)\n",
    "\n",
    "    # Populate features dynamically with realistic correlations\n",
    "    for i in range(n_features):\n",
    "        if i == 0:  # Feature 1: Area in square feet\n",
    "            X_train[:, i] = np.random.randint(800, 4000, num_samples)\n",
    "        elif i == 1:  # Feature 2: Bedrooms (correlated with area)\n",
    "            X_train[:, i] = np.clip((X_train[:, 0] // 1000) + np.random.randint(-1, 2, num_samples), 1, 6)\n",
    "        elif i == 2:  # Feature 3: Bathrooms (slightly less correlated than bedrooms)\n",
    "            X_train[:, i] = np.clip((X_train[:, 1] // 2) + np.random.randint(0, 2, num_samples), 1, 4)\n",
    "        elif i == 3:  # Feature 4: Age of property\n",
    "            X_train[:, i] = np.random.randint(1, 100, num_samples)  # Wider range for realism\n",
    "        elif i == 4:  # Feature 5: Distance to city center (in km)\n",
    "            X_train[:, i] = np.random.randint(1, 50, num_samples)\n",
    "        elif i == 5:  # Feature 6: Number of floors\n",
    "            X_train[:, i] = np.random.randint(1, 4, num_samples)\n",
    "        elif i == 6:  # Feature 7: Lot size (in square meters)\n",
    "            X_train[:, i] = np.random.randint(500, 2000, num_samples)\n",
    "        elif i == 7:  # Feature 8: Year built\n",
    "            X_train[:, i] = 2024 - np.random.randint(1, 100, num_samples)\n",
    "        else:  # Additional features: Random values within a defined range\n",
    "            X_train[:, i] = np.random.randint(1, 100, num_samples)\n",
    "\n",
    "    # Generate labels (house prices) based on feature weights and added noise\n",
    "    coefficients = np.array([100, 50, 30, -20, -5, 10, 40, 15] + [5] * (n_features - 8))  # Feature weights\n",
    "    noise = np.random.normal(0, 5000, num_samples)  # Add realistic noise\n",
    "    y_train = (X_train @ coefficients[:n_features] + noise).astype(int)\n",
    "\n",
    "    return X_train, y_train"
   ],
   "id": "184bb744c65afe3e",
   "outputs": [],
   "execution_count": 64
  },
  {
   "metadata": {},
   "cell_type": "markdown",
   "source": [
    "<a name=\"toc_15456_3\"></a>\n",
    "## Model Prediction With Multiple Variables\n",
    "The model's prediction with multiple variables is given by the linear model:\n",
    "\n",
    "$$ f_{\\mathbf{w},b}(\\mathbf{x}) =  w_0x_0 + w_1x_1 +... + w_{n-1}x_{n-1} + b \\tag{1}$$\n",
    "or in vector notation:\n",
    "$$ f_{\\mathbf{w},b}(\\mathbf{x}) = \\mathbf{w} \\cdot \\mathbf{x} + b  \\tag{2} $$ \n",
    "where $\\cdot$ is a vector `dot product`\n",
    "\n",
    "To demonstrate the dot product, we will implement prediction using (1) and (2)."
   ],
   "id": "3578424bac82650e"
  },
  {
   "metadata": {
    "ExecuteTime": {
     "end_time": "2024-12-16T11:39:34.330819Z",
     "start_time": "2024-12-16T11:39:34.327484Z"
    }
   },
   "cell_type": "code",
   "source": [
    "def predict(W,b,X_record):\n",
    "    \"\"\"\n",
    "    single predict using linear regression\n",
    "    Args:\n",
    "      x (ndarray): Shape (n,) example with multiple features\n",
    "      w (ndarray): Shape (n,) model parameters   \n",
    "      b (scalar):             model parameter \n",
    "      \n",
    "    Returns:\n",
    "      p (scalar):  prediction\n",
    "    \"\"\"\n",
    "    return np.dot(X_record,W) + b"
   ],
   "id": "8b697ebd0d091106",
   "outputs": [],
   "execution_count": 4
  },
  {
   "metadata": {},
   "cell_type": "markdown",
   "source": [
    "<a name=\"toc_15456_4\"></a>\n",
    "# Compute Cost With Multiple Variables\n",
    "The equation for the cost function with multiple variables $J(\\mathbf{w},b)$ is:\n",
    "$$J(\\mathbf{w},b) = \\frac{1}{2m} \\sum\\limits_{i = 0}^{m-1} (f_{\\mathbf{w},b}(\\mathbf{x}^{(i)}) - y^{(i)})^2 \\tag{3}$$ \n",
    "where:\n",
    "$$ f_{\\mathbf{w},b}(\\mathbf{x}^{(i)}) = \\mathbf{w} \\cdot \\mathbf{x}^{(i)} + b  \\tag{4} $$ \n",
    "\n",
    "\n",
    "In contrast to previous labs, $\\mathbf{w}$ and $\\mathbf{x}^{(i)}$ are vectors rather than scalars supporting multiple features."
   ],
   "id": "6458822f1a81e3ec"
  },
  {
   "metadata": {
    "ExecuteTime": {
     "end_time": "2024-12-16T11:39:34.344811Z",
     "start_time": "2024-12-16T11:39:34.340621Z"
    }
   },
   "cell_type": "code",
   "source": [
    "def J(W,b,X,y):\n",
    "    \"\"\"\n",
    "    compute cost\n",
    "    Args:\n",
    "      X (ndarray (m,n)): Data, m examples with n features\n",
    "      y (ndarray (m,)) : target values\n",
    "      w (ndarray (n,)) : model parameters  \n",
    "      b (scalar)       : model parameter\n",
    "      \n",
    "    Returns:\n",
    "      cost (scalar): cost\n",
    "    \"\"\"\n",
    "    #iterative code\n",
    "    m = X.shape[0]\n",
    "    # c = 0.0\n",
    "    # for i in range(m):\n",
    "    #     f_wb_i = np.dot(W,X[i]) + b\n",
    "    #     c += (f_wb_i - y[i])**2\n",
    "    # c= c/2*m\n",
    "    \n",
    "    #numpy code\n",
    "    \n",
    "    #it will iterate over the rows of X and dot it by W and add the b and then it will be stored in f_wb[i]and that's for every row of X  \n",
    "    F_WB = np.dot(X,W) + b\n",
    "    Squared_Error = (F_WB  - y) ** 2\n",
    "    c = np.sum(Squared_Error)/(2*m) \n",
    "    #+ (lambaa * np.sum(W ** 2) / (2*m))\n",
    "    \n",
    "    return c"
   ],
   "id": "52a47113b5a674c2",
   "outputs": [],
   "execution_count": 5
  },
  {
   "metadata": {},
   "cell_type": "markdown",
   "source": [
    "<a name=\"toc_15456_5\"></a>\n",
    "## 5 Gradient Descent With Multiple Variables\n",
    "Gradient descent for multiple variables:\n",
    "\n",
    "$$\\begin{align*} \\text{repeat}&\\text{ until convergence:} \\; \\lbrace \\newline\\;\n",
    "& w_j = w_j -  \\alpha \\frac{\\partial J(\\mathbf{w},b)}{\\partial w_j} \\tag{5}  \\; & \\text{for j = 0..n-1}\\newline\n",
    "&b\\ \\ = b -  \\alpha \\frac{\\partial J(\\mathbf{w},b)}{\\partial b}  \\newline \\rbrace\n",
    "\\end{align*}$$\n",
    "\n",
    "where, n is the number of features, parameters $w_j$,  $b$, are updated simultaneously and where  \n",
    "\n",
    "$$\n",
    "\\begin{align}\n",
    "\\frac{\\partial J(\\mathbf{w},b)}{\\partial w_j}  &= \\frac{1}{m} \\sum\\limits_{i = 0}^{m-1} (f_{\\mathbf{w},b}(\\mathbf{x}^{(i)}) - y^{(i)})x_{j}^{(i)} \\tag{6}  \\\\\n",
    "\\frac{\\partial J(\\mathbf{w},b)}{\\partial b}  &= \\frac{1}{m} \\sum\\limits_{i = 0}^{m-1} (f_{\\mathbf{w},b}(\\mathbf{x}^{(i)}) - y^{(i)}) \\tag{7}\n",
    "\\end{align}\n",
    "$$\n",
    "* m is the number of training examples in the data set\n",
    "\n",
    "    \n",
    "*  $f_{\\mathbf{w},b}(\\mathbf{x}^{(i)})$ is the model's prediction, while $y^{(i)}$ is the target value\n"
   ],
   "id": "d12e69b33ed4b66d"
  },
  {
   "metadata": {},
   "cell_type": "markdown",
   "source": [
    "### Dot Product Explanation\n",
    "\n",
    "The dot product will return an array, where each element contains the dot product of a record (row) with the weights vector.\n",
    "\n",
    "#### Example\n",
    "Consider the following table with 4 features and \\(m\\) records:\n",
    "\n",
    "| Feature 1 | Feature 2 | Feature 3 | Feature 4 | Target (y) |\n",
    "|-----------|-----------|-----------|-----------|------------|\n",
    "| 10        | 20        | 30        | 40        | 203        |\n",
    "| ..        | ..        | ..        | ..        | ...        |\n",
    "\n",
    "and the weights of features\n",
    "\n",
    "| W of Feature 1 | W of Feature 2 | W of Feature 3 | W of Feature 4 |\n",
    "|----------------|----------------|----------------|----------------|\n",
    "| 1              | 0.1            | 2              | -22            | \n",
    "\n",
    "#### Dot Product Computation:\n",
    "the dot product will return an array with m elements [x[i] . w[i], ... ] \n",
    "or [ [10,20,30,40] . [1,0.1,2,-22] , ... ]"
   ],
   "id": "b2cd59909386c83d"
  },
  {
   "metadata": {
    "ExecuteTime": {
     "end_time": "2024-12-16T11:39:34.369746Z",
     "start_time": "2024-12-16T11:39:34.365162Z"
    }
   },
   "cell_type": "code",
   "source": [
    "\n",
    "def partial_derivative(W,b,X,y):\n",
    "    \"\"\"\n",
    "    Compute the partial derivatives of the cost function with respect to W and b.\n",
    "\n",
    "    Args:\n",
    "      W (ndarray (n,)): Model parameters (weights)\n",
    "      b (scalar): Model parameter (bias)\n",
    "      X (ndarray (m, n)): Input data (m records, n features)\n",
    "      y (ndarray (m,)): Target values\n",
    "\n",
    "    Returns:\n",
    "      DJ_DW (ndarray (n,)): Partial derivatives with respect to W\n",
    "      dj_db (scalar): Partial derivative with respect to b\n",
    "    \"\"\"\n",
    "    number_of_features = n = X.shape[1]\n",
    "    number_of_records = m = X.shape[0]\n",
    "    DJ_DW = np.zeros(number_of_features)\n",
    "    dj_db = 0.0\n",
    "    errors = np.dot(X,W) + b - y         #the error for every record\n",
    "    dj_db = np.sum(errors)/m  \n",
    "    for j in range(number_of_features):\n",
    "        DJ_DW[j] = (np.sum(errors * X[:,j]))/m\n",
    "    return DJ_DW, dj_db\n"
   ],
   "id": "ffde8f33ca6fa47a",
   "outputs": [],
   "execution_count": 6
  },
  {
   "metadata": {},
   "cell_type": "markdown",
   "source": "## scaling the features",
   "id": "c2ad4ce393fe1891"
  },
  {
   "metadata": {
    "ExecuteTime": {
     "end_time": "2024-12-16T11:39:34.392301Z",
     "start_time": "2024-12-16T11:39:34.387101Z"
    }
   },
   "cell_type": "code",
   "source": [
    "def max_scaling(x):\n",
    "    \"\"\"\n",
    "    Args:\n",
    "        x (ndarray (m,n)): Input data (m records, n features)\n",
    "    \"\"\"\n",
    "    mx = x.max(axis=0) #get the max for each column, for each feature specifically\n",
    "    return x / mx #divide each column by correspondant element of mx\n",
    "\n",
    "def mean_normalization(x):\n",
    "    \"\"\"\n",
    "    Args:\n",
    "        x (ndarray (m,n)): Input data (m records, n features)\n",
    "    \"\"\"\n",
    "    mean = x.mean(axis=0)\n",
    "    mx = x.max(axis=0)\n",
    "    mn = x.min(axis=0)\n",
    "    return (x - mean) / mx\n",
    "\n",
    "def z_scoring(x):\n",
    "    \"\"\"\n",
    "    Args:\n",
    "        x (ndarray (m,n)): Input data (m records, n features)\n",
    "    \"\"\"\n",
    "    mean = x.mean(axis=0)\n",
    "    std = x.std(axis=0)\n",
    "    return (x - mean) / std"
   ],
   "id": "dfa74454b32129df",
   "outputs": [],
   "execution_count": 7
  },
  {
   "metadata": {},
   "cell_type": "markdown",
   "source": "### now into gradient descent code",
   "id": "9714df9ab5fb5a34"
  },
  {
   "metadata": {
    "ExecuteTime": {
     "end_time": "2024-12-16T12:08:59.115921Z",
     "start_time": "2024-12-16T12:08:59.109137Z"
    }
   },
   "cell_type": "code",
   "source": [
    "def gradient_descent(Init_W,init_b,alpha,times,X_Training,y_training): \n",
    "     \n",
    "    \"\"\"\n",
    "    Perform gradient descent optimization to find optimal model parameters.\n",
    "    \n",
    "    This function iteratively updates weights (W) and bias (b) to minimize \n",
    "    the cost function using gradient descent algorithm.\n",
    "    \n",
    "    Args:\n",
    "        Init_W (numpy.ndarray): Initial weights vector \n",
    "            Shape: (number_of_features,)\n",
    "        init_b (float): Initial bias value\n",
    "        alpha (float): Learning rate controlling step size of parameter updates\n",
    "        times (int): Maximum number of iterations to perform\n",
    "        X_Training (numpy.ndarray): Training feature matrix \n",
    "            Shape: (number_of_samples, number_of_features)\n",
    "        y_training (numpy.ndarray): Training target values \n",
    "            Shape: (number_of_samples,)\n",
    "    \n",
    "    Returns:\n",
    "        tuple: \n",
    "            - W (numpy.ndarray): Optimized weights vector\n",
    "            - b (float): Optimized bias value\n",
    "    \"\"\"\n",
    "    \n",
    "    x_axis = []\n",
    "    y_axis = []\n",
    "    W = Init_W\n",
    "    number_of_features = n = W.shape[0]\n",
    "    b = init_b\n",
    "    for i in range(times):\n",
    "        DJ_DW,dj_db = partial_derivative(W,b,X_Training,y_training)\n",
    "        b = b - alpha*dj_db        \n",
    "        W = W - DJ_DW * alpha\n",
    "        x_axis.append(i)\n",
    "        cost = J(W,b,X_Training,y_training)\n",
    "        y_axis.append(cost)\n",
    "        if(cost < 1e-10):\n",
    "            print(i)\n",
    "            break\n",
    "    plt.plot(x_axis,y_axis)\n",
    "    return W,b\n",
    "\n",
    "\n",
    "def gradient_descent_algorithm(X_Training,y_training):\n",
    "    \"\"\"\n",
    "    Prepare and execute gradient descent optimization.\n",
    "    \n",
    "    Sets up initial parameters and calls gradient descent function.\n",
    "    \n",
    "    Args:\n",
    "        X_Training (numpy.ndarray): Training feature matrix \n",
    "            Shape: (number_of_samples, number_of_features)\n",
    "        y_training (numpy.ndarray): Training target values \n",
    "            Shape: (number_of_samples,)\n",
    "    \n",
    "    Returns:\n",
    "        tuple: \n",
    "            - W (numpy.ndarray): Optimized weights vector\n",
    "            - b (float): Optimized bias value\n",
    "    \n",
    "    Configuration:\n",
    "        - Initial weights set to zero\n",
    "        - Initial bias set to 0.0\n",
    "        - Learning rate (alpha) set to 5.0e-8\n",
    "        - Maximum iterations set to 10,000\n",
    "    \"\"\"\n",
    "    number_of_features = X_Training.shape[1]\n",
    "    Init_W = np.full(number_of_features,0)\n",
    "    init_b = 0.\n",
    "    alpha = 5.0e-1 #if you normalize data you must choose smaller learning rate\n",
    "    times = 100000\n",
    "    return gradient_descent(Init_W,init_b,alpha,times,X_Training,y_training)\n",
    "        "
   ],
   "id": "7f5a81b8d0364ba1",
   "outputs": [],
   "execution_count": 61
  },
  {
   "metadata": {},
   "cell_type": "markdown",
   "source": "## Running the Code and taking Predication",
   "id": "f05466cfa282f2cd"
  },
  {
   "metadata": {
    "ExecuteTime": {
     "end_time": "2024-12-16T12:10:52.259051Z",
     "start_time": "2024-12-16T12:10:48.559401Z"
    }
   },
   "cell_type": "code",
   "source": [
    "num_samples = 100 ; num_features = 4\n",
    "\n",
    "x_train, y_train = generate_dataset(num_samples,num_features)\n",
    "#x_train = np.array([[2104, 5, 1, 45], [1416, 3, 2, 40], [852, 2, 1, 35]])\n",
    "#y_train = np.array([460, 232, 178])\n",
    "\n",
    "x_train = z_scoring(x_train)\n",
    "\n",
    "W,b = gradient_descent_algorithm(x_train,y_train)\n",
    "\n",
    "x_sample = np.array([1000,2,3,4])\n",
    "x_sample = z_scoring(x_sample)\n",
    "print(f\"the cost now is: {J(W,b,x_train,y_train)}\")\n",
    "\n",
    "print(\"the Weights are: \",W)\n",
    "print(f\"the bias is: {b:0.2f}\")\n",
    "print(predict(W,b,x_sample))\n",
    "\n"
   ],
   "id": "880bddc8ad3defcb",
   "outputs": [
    {
     "name": "stdout",
     "output_type": "stream",
     "text": [
      "the cost now is: 485067.3952568118\n",
      "the Weights are:  [ 4.71e+04 -2.48e+01  8.78e+01 -2.08e+02]\n",
      "the bias is: 123310.15\n",
      "204928.14192023396\n"
     ]
    },
    {
     "data": {
      "text/plain": [
       "<Figure size 640x480 with 1 Axes>"
      ],
      "image/png": "[encoded data removed]"
     },
     "metadata": {},
     "output_type": "display_data"
    }
   ],
   "execution_count": 65
  },
  {
   "metadata": {},
   "cell_type": "markdown",
   "source": "## some visualization",
   "id": "dcfbb6ad3056bd5e"
  },
  {
   "metadata": {
    "ExecuteTime": {
     "end_time": "2024-12-16T12:10:56.510064Z",
     "start_time": "2024-12-16T12:10:56.214318Z"
    }
   },
   "cell_type": "code",
   "source": [
    "fig, ax = plt.subplots(1,4,figsize=(12,3),sharey=True)\n",
    "for i in range(len(ax)):\n",
    "    ax[i].scatter(x_train[:,i],predict(W,b,x_train),color='orange', label = 'predict')\n",
    "    ax[i].scatter(x_train[:,i],y_train)\n",
    "    ax[i].set_xlabel(f\"Feature {i+1}\")\n",
    "ax[0].set_ylabel(\"Price\"); ax[0].legend();\n",
    "\n",
    "\n",
    "    "
   ],
   "id": "d3567c8bfe2a2bbb",
   "outputs": [
    {
     "data": {
      "text/plain": [
       "<Figure size 1200x300 with 4 Axes>"
      ],
      "image/png": "[encoded data removed]"
     },
     "metadata": {},
     "output_type": "display_data"
    }
   ],
   "execution_count": 66
  }
 ],
 "metadata": {
  "kernelspec": {
   "display_name": "Python 3",
   "language": "python",
   "name": "python3"
  },
  "language_info": {
   "codemirror_mode": {
    "name": "ipython",
    "version": 2
   },
   "file_extension": ".py",
   "mimetype": "text/x-python",
   "name": "python",
   "nbconvert_exporter": "python",
   "pygments_lexer": "ipython2",
   "version": "2.7.6"
  }
 },
 "nbformat": 4,
 "nbformat_minor": 5
}
