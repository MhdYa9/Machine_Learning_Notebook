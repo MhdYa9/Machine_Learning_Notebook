{
 "cells": [
  {
   "cell_type": "code",
   "id": "initial_id",
   "metadata": {
    "collapsed": true,
    "ExecuteTime": {
     "end_time": "2025-02-06T20:49:10.890233Z",
     "start_time": "2025-02-06T20:49:10.019285Z"
    }
   },
   "source": [
    "import numpy as np\n",
    "import pandas as pd\n",
    "import matplotlib.pyplot as plt"
   ],
   "outputs": [],
   "execution_count": 1
  },
  {
   "metadata": {},
   "cell_type": "markdown",
   "source": [
    "### we will be building a tree to decide whether the animal is dog or cat\n",
    "\n",
    "Therefore, we have two sets:\n",
    "\n",
    "- `X_train`: for each example, contains 3 features:\n",
    "            - Ear Shape (1 if pointy, 0 otherwise)\n",
    "            - Face Shape (1 if round, 0 otherwise)\n",
    "            - Whiskers (1 if present, 0 otherwise)\n",
    "            \n",
    "- `y_train`: whether the animal is a cat\n",
    "            - 1 if the animal is a cat\n",
    "            - 0 otherwise"
   ],
   "id": "fb19ab884d0d0cad"
  },
  {
   "metadata": {
    "ExecuteTime": {
     "end_time": "2025-02-06T20:51:44.320308Z",
     "start_time": "2025-02-06T20:51:44.315142Z"
    }
   },
   "cell_type": "code",
   "source": [
    "X_train = np.array([[1, 1, 1],\n",
    "[0, 0, 1],\n",
    " [0, 1, 0],\n",
    " [1, 0, 1],\n",
    " [1, 1, 1],\n",
    " [1, 1, 0],\n",
    " [0, 0, 0],\n",
    " [1, 1, 0],\n",
    " [0, 1, 0],\n",
    " [0, 1, 0]])\n",
    "\n",
    "y_train = np.array([1, 1, 0, 0, 1, 1, 0, 1, 0, 0])"
   ],
   "id": "174fc477966a851f",
   "outputs": [],
   "execution_count": 2
  },
  {
   "metadata": {},
   "cell_type": "markdown",
   "source": [
    "### Information Gain\n",
    "in a decision tree, we decide if a node will be split or not by looking at the **information gain** that split would give us. (Image of video IG)\n",
    "\n",
    "Where \n",
    "\n",
    "$$\\text{Information Gain} = H(p_1^\\text{node})- \\left(w^{\\text{left}}H\\left(p_1^\\text{left}\\right) + w^{\\text{right}}H\\left(p_1^\\text{right}\\right)\\right),$$\n",
    "\n",
    "and $H$ is the entropy, defined as\n",
    "\n",
    "$$H(p_1) = -p_1 \\text{log}_2(p_1) - (1- p_1) \\text{log}_2(1- p_1)$$"
   ],
   "id": "29cfd9fd99db110f"
  },
  {
   "metadata": {
    "ExecuteTime": {
     "end_time": "2025-02-06T21:16:26.118643Z",
     "start_time": "2025-02-06T21:16:26.112665Z"
    }
   },
   "cell_type": "code",
   "source": [
    "def entropy(p1):\n",
    "    if(p1 == 0 or p1 == 1):\n",
    "        return 0\n",
    "    return -p1 * np.log2(p1) - (1-p1) * np.log2(1 - p1)\n",
    "\n",
    "print(entropy(0.5));"
   ],
   "id": "ba06c54044efaf04",
   "outputs": [
    {
     "name": "stdout",
     "output_type": "stream",
     "text": [
      "1.0\n"
     ]
    }
   ],
   "execution_count": 14
  },
  {
   "metadata": {},
   "cell_type": "markdown",
   "source": "now let's define the splitting function that will split according to index",
   "id": "cd34b390f53a67f0"
  },
  {
   "metadata": {
    "ExecuteTime": {
     "end_time": "2025-02-06T21:56:58.341577Z",
     "start_time": "2025-02-06T21:56:58.335741Z"
    }
   },
   "cell_type": "code",
   "source": [
    "def split(X_set,y, featureIndex):\n",
    "    left_group = []\n",
    "    right_group = []\n",
    "    y_left_group = []\n",
    "    y_right_group = []\n",
    "    for i,record in enumerate(X_set):\n",
    "        if record[featureIndex] == 1:\n",
    "            left_group.append(record)\n",
    "            y_left_group.append(y[i])\n",
    "        else:\n",
    "            right_group.append(record)\n",
    "            y_right_group.append(y[i])\n",
    "    return np.array(left_group), np.array(right_group),np.array(y_left_group),np.array(y_right_group)\n",
    "\n",
    "\n",
    "left,right,y_left,y_right = split(X_train,y_train, 0)\n",
    "#split(X_train,y_train, 0)\n",
    "print(f\"left is {left} \\nright is {right}\")"
   ],
   "id": "939d4352a08669bf",
   "outputs": [
    {
     "data": {
      "text/plain": [
       "(array([[1, 1, 1],\n",
       "        [1, 0, 1],\n",
       "        [1, 1, 1],\n",
       "        [1, 1, 0],\n",
       "        [1, 1, 0]]),\n",
       " array([[0, 0, 1],\n",
       "        [0, 1, 0],\n",
       "        [0, 0, 0],\n",
       "        [0, 1, 0],\n",
       "        [0, 1, 0]]),\n",
       " array([1, 0, 1, 1, 1]),\n",
       " array([1, 0, 0, 0, 0]))"
      ]
     },
     "execution_count": 42,
     "metadata": {},
     "output_type": "execute_result"
    }
   ],
   "execution_count": 42
  },
  {
   "metadata": {},
   "cell_type": "markdown",
   "source": [
    "### however\n",
    "this will help somehow"
   ],
   "id": "217d4bc5d91cce9e"
  },
  {
   "metadata": {
    "ExecuteTime": {
     "end_time": "2025-02-06T21:27:14.367808Z",
     "start_time": "2025-02-06T21:27:14.362304Z"
    }
   },
   "cell_type": "code",
   "source": [
    "def split_indices(X_set, featureIndex):\n",
    "    left_group = []\n",
    "    right_group = []\n",
    "    for i,record in enumerate(X_set):\n",
    "        if record[featureIndex] == 1:\n",
    "            left_group.append(i)\n",
    "        else:\n",
    "            right_group.append(i)\n",
    "    return left_group, right_group\n",
    "\n",
    "\n",
    "left,right = split_indices(X_train, 0)\n",
    "print(f\"left is {left} \\nright is {right}\")"
   ],
   "id": "d50e0370ffd0c867",
   "outputs": [
    {
     "name": "stdout",
     "output_type": "stream",
     "text": [
      "left is [0, 3, 4, 5, 7] \n",
      "right is [1, 2, 6, 8, 9]\n"
     ]
    }
   ],
   "execution_count": 26
  },
  {
   "metadata": {},
   "cell_type": "markdown",
   "source": [
    "Now we need another function to compute the weighted entropy in the splitted nodes. As you've seen in the video lecture, we must find:\n",
    "\n",
    "- $w^{\\text{left}}$ and $w^{\\text{right}}$, the proportion of animals in **each node**.\n",
    "- $p^{\\text{left}}$ and $p^{\\text{right}}$, the proportion of cats in **each split**.\n",
    "\n",
    "Note the difference between these two definitions!! To illustrate, if we split the root node on the feature of index 0 (Ear Shape), then in the left node, the one that has the animals 0, 3, 4, 5 and 7, we have:\n",
    "\n",
    "$$w^{\\text{left}}= \\frac{5}{10} = 0.5 \\text{ and } p^{\\text{left}} = \\frac{4}{5}$$\n",
    "$$w^{\\text{right}}= \\frac{5}{10} = 0.5 \\text{ and } p^{\\text{right}} = \\frac{1}{5}$$"
   ],
   "id": "2aa46571c01a092"
  },
  {
   "metadata": {
    "ExecuteTime": {
     "end_time": "2025-02-06T22:01:56.261487Z",
     "start_time": "2025-02-06T22:01:56.254525Z"
    }
   },
   "cell_type": "code",
   "source": [
    "def weighted_entropy(X_set,y,left_indices,right_indices):\n",
    "    \n",
    "    n_left = len(left_indices)\n",
    "    n_right = len(right_indices)\n",
    "    n = len(X_set)\n",
    "    \n",
    "    w_left = n_left/n\n",
    "    w_right = n_right/n\n",
    "    \n",
    "    try:\n",
    "        entropy_left = entropy(sum(y[left_indices])/n_left)\n",
    "    except:\n",
    "        entropy_left = 0\n",
    "    try:\n",
    "        entropy_right = entropy(sum(y[right_indices])/n_right)\n",
    "    except:\n",
    "        entropy_right = 0\n",
    "    \n",
    "    return w_left * entropy_left + w_right * entropy_right\n",
    "\n",
    "print(f\"weighted entropy when dividing according to ear shape {weighted_entropy(X_train,y_train,left,right)}\")"
   ],
   "id": "1760b948f2fb254f",
   "outputs": [
    {
     "name": "stdout",
     "output_type": "stream",
     "text": [
      "weighted entropy when dividing according to ear shape 0.0\n"
     ]
    }
   ],
   "execution_count": 45
  },
  {
   "metadata": {},
   "cell_type": "markdown",
   "source": "So, the weighted entropy in the 2 split nodes is 0.72. To compute the **Information Gain** we must subtract it from the entropy in the node we chose to split (in this case, the root node). ",
   "id": "8bd50232d0f0c1a0"
  },
  {
   "metadata": {
    "ExecuteTime": {
     "end_time": "2025-02-06T21:27:17.992762Z",
     "start_time": "2025-02-06T21:27:17.987592Z"
    }
   },
   "cell_type": "code",
   "source": [
    "def information_gain(X_set,y,left_indices,right_indices):\n",
    "    p1_root = sum(y)/len(y)\n",
    "    return entropy(p1_root) - weighted_entropy(X_set,y,left_indices,right_indices)\n",
    "\n",
    "print(f\"information gain is {information_gain(X_train,y_train,left,right)}\")"
   ],
   "id": "8de9e681b002c628",
   "outputs": [
    {
     "name": "stdout",
     "output_type": "stream",
     "text": [
      "information gain is 0.2780719051126377\n"
     ]
    }
   ],
   "execution_count": 28
  },
  {
   "metadata": {},
   "cell_type": "markdown",
   "source": "Now, let's compute the information gain if we split the root node for each feature:",
   "id": "433f539c6435f857"
  },
  {
   "metadata": {
    "ExecuteTime": {
     "end_time": "2025-02-06T21:31:35.020200Z",
     "start_time": "2025-02-06T21:31:35.015158Z"
    }
   },
   "cell_type": "code",
   "source": [
    "for i in range(X_train.shape[1]):\n",
    "    left,right = split_indices(X_train, i)\n",
    "    info_gain_i = information_gain(X_train,y_train,left,right)\n",
    "    print(f\"the feature {i} has information gain of {info_gain_i}\")"
   ],
   "id": "2ae5aaa47195fa41",
   "outputs": [
    {
     "name": "stdout",
     "output_type": "stream",
     "text": [
      "the feature 0 has information gain of 0.2780719051126377\n",
      "the feature 1 has information gain of 0.034851554559677034\n",
      "the feature 2 has information gain of 0.12451124978365313\n"
     ]
    }
   ],
   "execution_count": 33
  },
  {
   "metadata": {},
   "cell_type": "markdown",
   "source": "we will turn this into fucntion",
   "id": "95027d40cf983c7d"
  },
  {
   "metadata": {
    "ExecuteTime": {
     "end_time": "2025-02-06T22:02:57.038487Z",
     "start_time": "2025-02-06T22:02:57.032034Z"
    }
   },
   "cell_type": "code",
   "source": [
    "def best_split(X_set,y):\n",
    "    \n",
    "    best_feature = -1\n",
    "    mx = -1000000\n",
    "    for i in range(X_set.shape[1]):\n",
    "        left,right = split_indices(X_set, i)\n",
    "        info_gain_i = information_gain(X_set,y,left,right)\n",
    "        if info_gain_i > mx:\n",
    "            mx = info_gain_i\n",
    "            best_feature = i\n",
    "    return best_feature\n",
    "\n",
    "print(f\"the best feature to split on is {best_split(X_train,y_train)}\")"
   ],
   "id": "d11ae9ef4d3a647b",
   "outputs": [
    {
     "name": "stdout",
     "output_type": "stream",
     "text": [
      "the best feature to split on is 0\n"
     ]
    }
   ],
   "execution_count": 47
  },
  {
   "metadata": {},
   "cell_type": "markdown",
   "source": [
    "### Tree generation code\n",
    "the overall code needs improvement because it's not so efficient and there is a lot of waste"
   ],
   "id": "bd716de701b92058"
  },
  {
   "metadata": {
    "ExecuteTime": {
     "end_time": "2025-02-06T22:10:04.497951Z",
     "start_time": "2025-02-06T22:10:04.488119Z"
    }
   },
   "cell_type": "code",
   "source": [
    "mx_depth = 2\n",
    "def tree_gen(X_train,y_train,tree,depth = 0):\n",
    "    if(depth == mx_depth):\n",
    "        # adding the leaf node\n",
    "        return \n",
    "    best_feature = best_split(X_train,y_train)\n",
    "    left,right = split_indices(X_train, best_feature)\n",
    "    tree.append([depth-1,best_feature,left,right])\n",
    "    x_left,x_right,y_left,y_right = split(X_train,y_train,best_feature)\n",
    "    tree_gen(x_left,y_left,tree,depth+1)\n",
    "    tree_gen(x_right,y_right,tree,depth+1)\n",
    "    \n",
    "    return tree\n",
    "\n",
    "print(\"first param is the parent, current index is parent + 1 and second param is feature split on, the left and right groups\")\n",
    "tree_gen(X_train,y_train,[])\n"
   ],
   "id": "15f95c34d2e1c898",
   "outputs": [
    {
     "name": "stdout",
     "output_type": "stream",
     "text": [
      "first param is the parent, current index is parent + 1 and second param is feature split on, the left and right groups\n"
     ]
    },
    {
     "data": {
      "text/plain": [
       "[[-1, 0, [0, 3, 4, 5, 7], [1, 2, 6, 8, 9]],\n",
       " [0, 1, [0, 2, 3, 4], [1]],\n",
       " [0, 2, [0], [1, 2, 3, 4]]]"
      ]
     },
     "execution_count": 54,
     "metadata": {},
     "output_type": "execute_result"
    }
   ],
   "execution_count": 54
  }
 ],
 "metadata": {
  "kernelspec": {
   "display_name": "Python 3",
   "language": "python",
   "name": "python3"
  },
  "language_info": {
   "codemirror_mode": {
    "name": "ipython",
    "version": 2
   },
   "file_extension": ".py",
   "mimetype": "text/x-python",
   "name": "python",
   "nbconvert_exporter": "python",
   "pygments_lexer": "ipython2",
   "version": "2.7.6"
  }
 },
 "nbformat": 4,
 "nbformat_minor": 5
}
