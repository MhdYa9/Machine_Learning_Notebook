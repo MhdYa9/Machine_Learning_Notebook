{
 "cells": [
  {
   "metadata": {
    "ExecuteTime": {
     "end_time": "2024-11-30T22:19:31.310407Z",
     "start_time": "2024-11-30T22:19:31.304092Z"
    }
   },
   "cell_type": "code",
   "source": [
    "import numpy as np\n",
    "import matplotlib.pyplot as plt\n",
    "\n",
    "from test import y_training"
   ],
   "id": "fa1b776454f43157",
   "outputs": [],
   "execution_count": 238
  },
  {
   "metadata": {},
   "cell_type": "markdown",
   "source": [
    "## regression model\n",
    "this is a function that returns the y points of the model"
   ],
   "id": "f9e580148e777448"
  },
  {
   "metadata": {
    "ExecuteTime": {
     "end_time": "2024-11-30T22:19:31.329510Z",
     "start_time": "2024-11-30T22:19:31.322412Z"
    }
   },
   "cell_type": "code",
   "source": [
    "def regression_model(w,b,x_set):\n",
    "    m = x_set.shape[0]\n",
    "    f_wb = np.zeros(m)\n",
    "    for i in range(m):\n",
    "        f_wb[i] = w*x_set[i]+b\n",
    "    return f_wb"
   ],
   "id": "9ffb1f41458f3c1f",
   "outputs": [],
   "execution_count": 239
  },
  {
   "metadata": {},
   "cell_type": "markdown",
   "source": [
    "## Cost value\n",
    "this will calculate the value of a certain model for a given b and w\n"
   ],
   "id": "e39b8170687654a3"
  },
  {
   "metadata": {
    "ExecuteTime": {
     "end_time": "2024-11-30T22:19:31.355721Z",
     "start_time": "2024-11-30T22:19:31.349453Z"
    }
   },
   "cell_type": "code",
   "source": [
    "def cost_function(w,b,x_set,y_set):\n",
    "    m = y_set.shape[0]\n",
    "    f_wb = regression_model(w,b,x_set)\n",
    "    cost = 0\n",
    "    for i in range(m):\n",
    "        cost += ((f_wb - y_set[i])**2)\n",
    "    return cost/2*m"
   ],
   "id": "d9cd078c39605e16",
   "outputs": [],
   "execution_count": 240
  },
  {
   "metadata": {},
   "cell_type": "markdown",
   "source": [
    "## defining partial derivatives of the J(w,b) function\n",
    "\n",
    "### this is the J(w,b) function\n",
    "$$J(w,b) = \\frac{1}{2m} \\sum\\limits_{i = 0}^{m-1} (f_{w,b}(x^{(i)}) - y^{(i)})^2\\tag{2}$$ \n",
    "\n",
    "### this is the partial derivative\n",
    "$$\n",
    "\\begin{align}\n",
    "\\frac{\\partial J(w,b)}{\\partial w}  &= \\frac{1}{m} \\sum\\limits_{i = 0}^{m-1} (f_{w,b}(x^{(i)}) - y^{(i)})x^{(i)} \\tag{4}\\\\\n",
    "  \\frac{\\partial J(w,b)}{\\partial b}  &= \\frac{1}{m} \\sum\\limits_{i = 0}^{m-1} (f_{w,b}(x^{(i)}) - y^{(i)}) \\tag{5}\\\\\n",
    "\\end{align}\n",
    "$$\n"
   ],
   "id": "2043f5ddcbeea92c"
  },
  {
   "metadata": {
    "ExecuteTime": {
     "end_time": "2024-11-30T22:19:31.380286Z",
     "start_time": "2024-11-30T22:19:31.374133Z"
    }
   },
   "cell_type": "code",
   "source": [
    "def partial_derivative(x_set,y_set,w,b):\n",
    "    \"\"\"\"\n",
    "    Args:\n",
    "        x_set (ndarray (m,)): the training set that corresponds to features\n",
    "        y_set (ndarray (m,)): the training set that corresponds to targets\n",
    "    Returns:\n",
    "        dj_dw (scalar): the value of slope when deriving with respect to weight\n",
    "        dj_db (scalar): the value of slope when deriving with respect to bias\n",
    "    \"\"\"\n",
    "    m = x_set.shape[0]\n",
    "    predictions = w * x_set + b\n",
    "    errors = predictions - y_set\n",
    "    dj_dw = np.dot(errors, x_set) / m  # Vectorized calculation of dj_dw\n",
    "    dj_db = np.sum(errors) / m         # Vectorized calculation of dj_db\n",
    "    return dj_dw, dj_db"
   ],
   "id": "6fcdbadc2298f243",
   "outputs": [],
   "execution_count": 241
  },
  {
   "metadata": {},
   "cell_type": "markdown",
   "source": [
    "### this is the gradient descent algo\n",
    "$$\n",
    "\\begin{align*} \\text{repeat}&\\text{ until convergence:} \\; \\lbrace \\newline\n",
    "\\;  w &= w -  \\alpha \\frac{\\partial J(w,b)}{\\partial w} \\tag{3}  \\; \\newline \n",
    " b &= b -  \\alpha \\frac{\\partial J(w,b)}{\\partial b}  \\newline \\rbrace\n",
    "\\end{align*}\n",
    "$$"
   ],
   "id": "ae34648f9bf85ae8"
  },
  {
   "metadata": {
    "ExecuteTime": {
     "end_time": "2024-11-30T22:19:31.407315Z",
     "start_time": "2024-11-30T22:19:31.396952Z"
    }
   },
   "cell_type": "code",
   "source": [
    "def gradient_descent(init_w,init_b,alpha,times,x_training,y_training):\n",
    "    \"\"\"\n",
    "    Args:\n",
    "        init_w (int): the initial weights\n",
    "        init_b (int): the initial bias\n",
    "        alpha (float): the learning rate\n",
    "        times (int): the number of iterations\n",
    "        x_training (ndarray (m,)): the training set that corresponds to features\n",
    "        y_training (ndarray (m,)): the training set that corresponds to targets\n",
    "    Returns:\n",
    "        w (int): the optimal weight\n",
    "        b (int): the optimal bias\n",
    "    \"\"\"\n",
    "    w = init_w\n",
    "    b = init_b\n",
    "    for i in range(times):\n",
    "        dj_dw, dj_db = partial_derivative(x_training,y_training,w,b)\n",
    "        if abs(alpha * dj_dw) < 1e-10 and abs(alpha * dj_db) < 1e-10:\n",
    "            print(i)\n",
    "            break\n",
    "        w = w - alpha*dj_dw\n",
    "        b = b - alpha*dj_db\n",
    "    return w,b\n",
    "\n",
    "\n",
    "def gradiant_descent_algorithm(x_training:np.ndarray,y_training:np.ndarray):\n",
    "    \n",
    "    \"\"\"\n",
    "    Args:\n",
    "        x_training (ndarray (m,)): the training set that corresponds to features\n",
    "        y_training (ndarray (m,)): the training set that corresponds to targets\n",
    "    Returns:\n",
    "        w (int): the optimal weight\n",
    "        b (int): the optimal bias\n",
    "    \"\"\"\n",
    "    init_w = 10000\n",
    "    init_b = 10000\n",
    "    times = 1000000\n",
    "    alpha = 0.01\n",
    "    return gradient_descent(init_w,init_b,alpha,times,x_training,y_training)\n",
    "    "
   ],
   "id": "9eb0d2517dd37c14",
   "outputs": [],
   "execution_count": 242
  },
  {
   "metadata": {},
   "cell_type": "markdown",
   "source": [
    "## generator\n",
    "this code will generate training set for the model\n"
   ],
   "id": "2db2c677d9555498"
  },
  {
   "metadata": {
    "ExecuteTime": {
     "end_time": "2024-11-30T22:19:31.432775Z",
     "start_time": "2024-11-30T22:19:31.425593Z"
    }
   },
   "cell_type": "code",
   "source": [
    "def generate_linear_data(num_points, noise_level=0.0):\n",
    "    \"\"\"\n",
    "    Generates a single dataset of linearly fittable data with random true weight and bias.\n",
    "\n",
    "    Args:\n",
    "        num_points (int): Number of data points to generate.\n",
    "        noise_level (float): The standard deviation of random noise added to the outputs.\n",
    "\n",
    "    Returns:\n",
    "        x_training (ndarray): Array of feature values.\n",
    "        y_training (ndarray): Array of target values.\n",
    "    \"\"\"\n",
    "    # Generate random x values in the range [0, 10)\n",
    "    x_training = np.random.uniform(0, 10, size=num_points)\n",
    "    # Randomly generate true w and b\n",
    "    w_true = np.random.uniform(-10, 10)  # Random slope\n",
    "    b_true = np.random.uniform(-5, 5)   # Random intercept\n",
    "    # Generate y values based on the true w and b, with optional noise\n",
    "    noise = np.random.normal(0, noise_level, size=num_points)\n",
    "    y_training = w_true * x_training + b_true + noise\n",
    "    return x_training, y_training\n"
   ],
   "id": "80aa75f0ea5a08bb",
   "outputs": [],
   "execution_count": 243
  },
  {
   "metadata": {},
   "cell_type": "markdown",
   "source": [
    "## plotting\n",
    "defining some sets for the value and graphing the model for an optimal b and w\n"
   ],
   "id": "60800aafda5ec8"
  },
  {
   "metadata": {
    "ExecuteTime": {
     "end_time": "2024-11-30T22:19:31.776914Z",
     "start_time": "2024-11-30T22:19:31.449700Z"
    }
   },
   "cell_type": "code",
   "source": [
    "#setting data\n",
    "\n",
    "x_training,y_training = generate_linear_data(100,3)\n",
    "#print(x_training,y_training)\n",
    "#x_training = np.array([1, 2, 3, 4, 5])\n",
    "#y_training = np.array([2.2, 4.4, 6.6, 8.8, 11.0])  # Line: y = 2x + 0.2\n",
    "w,b = gradiant_descent_algorithm(x_training,y_training)\n",
    "print(\"w:\",w ,\" and b: \",b)\n",
    "\n",
    "y_hat = regression_model(w,b,x_training)\n",
    "\n",
    "#adding names\n",
    "plt.title(\"linear regression\")\n",
    "plt.ylabel(\"y\")\n",
    "plt.xlabel(\"x\")\n",
    "\n",
    "#graphing\n",
    "\n",
    "#the regression model\n",
    "plt.plot(x_training, y_hat, c='b',label='Our Prediction')\n",
    "\n",
    "#scattering the points\n",
    "plt.scatter(x_training, y_training,c=\"r\",marker = 'o')\n",
    "\n",
    "\n",
    "plt.legend()\n",
    "plt.show()"
   ],
   "id": "e989624e8c901cd8",
   "outputs": [
    {
     "name": "stdout",
     "output_type": "stream",
     "text": [
      "10926\n",
      "w: -6.5679361758605905  and b:  4.477426362688318\n"
     ]
    },
    {
     "data": {
      "text/plain": [
       "<Figure size 640x480 with 1 Axes>"
      ],
      "image/png": "[encoded data removed]"
     },
     "metadata": {},
     "output_type": "display_data"
    }
   ],
   "execution_count": 244
  }
 ],
 "metadata": {
  "kernelspec": {
   "display_name": "Python 3 (ipykernel)",
   "language": "python",
   "name": "python3"
  },
  "language_info": {
   "codemirror_mode": {
    "name": "ipython",
    "version": 3
   },
   "file_extension": ".py",
   "mimetype": "text/x-python",
   "name": "python",
   "nbconvert_exporter": "python",
   "pygments_lexer": "ipython3",
   "version": "3.12.3"
  }
 },
 "nbformat": 4,
 "nbformat_minor": 5
}
